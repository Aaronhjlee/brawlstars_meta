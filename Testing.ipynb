{
 "cells": [
  {
   "cell_type": "code",
   "execution_count": 1,
   "metadata": {},
   "outputs": [],
   "source": [
    "import pandas as pd\n",
    "import numpy as np\n",
    "import json\n",
    "from collections import Counter\n",
    "import matplotlib.pyplot as plt\n",
    "import plotly.express as px\n",
    "import requests as r\n",
    "\n",
    "from API_key import *\n",
    "from BrawlstarsStats import *"
   ]
  },
  {
   "cell_type": "code",
   "execution_count": null,
   "metadata": {},
   "outputs": [
    {
     "name": "stdout",
     "output_type": "stream",
     "text": [
      "Making player IDs...\n",
      "...complete!\n",
      "Making brawler names...\n",
      "...complete!\n",
      "Made brawler names!\n"
     ]
    }
   ],
   "source": [
    "%%time\n",
    "country_code='global'\n",
    "BSd = BSdata(country_code, headers)\n",
    "df, player_id, battle_log_data = BSd.makeDataframe()"
   ]
  },
  {
   "cell_type": "code",
   "execution_count": null,
   "metadata": {},
   "outputs": [],
   "source": [
    "%%time\n",
    "BSbl = BSbattlelog(player_id, headers, battle_log_data)\n",
    "df_3v3 = BSbl.makeDataFrame_usage_3v3()\n",
    "df_solo = BSbl.makeDataFrame_usage_3v3(solo=True)"
   ]
  },
  {
   "cell_type": "code",
   "execution_count": null,
   "metadata": {
    "scrolled": true
   },
   "outputs": [],
   "source": [
    "%%time\n",
    "BSp = BSplot()\n",
    "BSp.plot_avg_trophies(df, df_3v3)\n",
    "BSp.plot_brawler_usage(df_3v3, 'global', 'pie')\n",
    "mode = ['global', 'GemGrab', 'BrawlBall', 'Heist', 'Bounty', 'Siege']\n",
    "for i in mode:\n",
    "    BSp.plot_brawler_usage(df_3v3, i, 'bar')\n",
    "for i in mode:\n",
    "    BSp.plot_brawler_winrate(df_3v3, i, 'bar')\n",
    "BSp.plot_mode_usage(df_3v3, 'ALL', 'pie')"
   ]
  },
  {
   "cell_type": "code",
   "execution_count": null,
   "metadata": {},
   "outputs": [],
   "source": [
    "%%time\n",
    "BSp = BSplot()\n",
    "BSp.plot_avg_trophies(df, df_solo)\n",
    "BSp.plot_brawler_usage(df_solo, 'global', 'pie')\n",
    "mode = ['global', 'SoloShowdown', 'Takedown', 'LoneStar', 'DuoShowdown']\n",
    "for i in mode:\n",
    "    BSp.plot_brawler_usage(df_solo, i, 'bar')\n",
    "for i in mode:\n",
    "    BSp.plot_brawler_winrate(df_solo, i, 'bar')\n",
    "BSp.plot_mode_usage(df_solo, 'ALL', 'pie')"
   ]
  },
  {
   "cell_type": "markdown",
   "metadata": {},
   "source": [
    "# 3v3 Code Testing"
   ]
  },
  {
   "cell_type": "markdown",
   "metadata": {},
   "source": [
    "## TOTAL Trial Place"
   ]
  },
  {
   "cell_type": "markdown",
   "metadata": {},
   "source": [
    "### Graphing it"
   ]
  },
  {
   "cell_type": "code",
   "execution_count": null,
   "metadata": {},
   "outputs": [],
   "source": []
  }
 ],
 "metadata": {
  "kernelspec": {
   "display_name": "Python 3",
   "language": "python",
   "name": "python3"
  },
  "language_info": {
   "codemirror_mode": {
    "name": "ipython",
    "version": 3
   },
   "file_extension": ".py",
   "mimetype": "text/x-python",
   "name": "python",
   "nbconvert_exporter": "python",
   "pygments_lexer": "ipython3",
   "version": "3.7.3"
  }
 },
 "nbformat": 4,
 "nbformat_minor": 2
}
