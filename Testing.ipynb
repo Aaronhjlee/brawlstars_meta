{
 "cells": [
  {
   "cell_type": "code",
   "execution_count": 1,
   "metadata": {},
   "outputs": [],
   "source": [
    "import pandas as pd\n",
    "import numpy as np\n",
    "import json\n",
    "from collections import Counter\n",
    "import matplotlib.pyplot as plt\n",
    "import seaborn as sns\n",
    "import plotly.express as px\n",
    "import requests as r\n",
    "\n",
    "from API_key import *\n",
    "from BrawlstarsStats import *"
   ]
  },
  {
   "cell_type": "code",
   "execution_count": null,
   "metadata": {},
   "outputs": [],
   "source": [
    "%%time\n",
    "country_code='global'\n",
    "BSd = BSdata(country_code, headers)\n",
    "player_id, names = BSd.top_200()\n",
    "df = BSd.makeDataframe()"
   ]
  },
  {
   "cell_type": "code",
   "execution_count": null,
   "metadata": {},
   "outputs": [],
   "source": [
    "%%time\n",
    "BSbl = BSbattlelog(player_id, headers)\n",
    "df = BSbl.makeDataFrame_usage_3v3()"
   ]
  },
  {
   "cell_type": "code",
   "execution_count": null,
   "metadata": {},
   "outputs": [],
   "source": [
    "BSp = BSplot(df, player_id, headers)"
   ]
  },
  {
   "cell_type": "code",
   "execution_count": null,
   "metadata": {},
   "outputs": [],
   "source": [
    "%%time\n",
    "BSp = BSplot()\n",
    "BSp.plot_avg_trophies(df, df_total)\n",
    "BSp.plot_brawler_usage(df_total, df_total, 'Global', 'pie')\n",
    "BSp.plot_brawler_usage(df, df_total, 'Global', 'bar')\n",
    "BSp.plot_brawler_usage(df, df_GG, 'GemGrab', 'bar')\n",
    "BSp.plot_brawler_usage(df, df_BB, 'BrawlBall', 'bar')\n",
    "BSp.plot_brawler_usage(df, df_H, 'Heist', 'bar')\n",
    "BSp.plot_brawler_usage(df, df_B, 'Bounty', 'bar')\n",
    "BSp.plot_brawler_usage(df, df_S, 'Siege', 'bar')"
   ]
  },
  {
   "cell_type": "markdown",
   "metadata": {},
   "source": [
    "# 3v3 wins only"
   ]
  },
  {
   "cell_type": "markdown",
   "metadata": {},
   "source": [
    "### GemGrab Global 3's"
   ]
  },
  {
   "cell_type": "code",
   "execution_count": null,
   "metadata": {},
   "outputs": [],
   "source": []
  },
  {
   "cell_type": "markdown",
   "metadata": {},
   "source": [
    "## TOTAL Win and Losses"
   ]
  },
  {
   "cell_type": "markdown",
   "metadata": {},
   "source": [
    "### Split by Game Modes"
   ]
  },
  {
   "cell_type": "code",
   "execution_count": null,
   "metadata": {},
   "outputs": [],
   "source": []
  }
 ],
 "metadata": {
  "kernelspec": {
   "display_name": "Python 3",
   "language": "python",
   "name": "python3"
  },
  "language_info": {
   "codemirror_mode": {
    "name": "ipython",
    "version": 3
   },
   "file_extension": ".py",
   "mimetype": "text/x-python",
   "name": "python",
   "nbconvert_exporter": "python",
   "pygments_lexer": "ipython3",
   "version": "3.7.3"
  }
 },
 "nbformat": 4,
 "nbformat_minor": 2
}
