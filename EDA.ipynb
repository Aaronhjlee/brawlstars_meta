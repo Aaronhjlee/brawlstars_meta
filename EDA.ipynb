{
 "cells": [
  {
   "cell_type": "code",
   "execution_count": null,
   "metadata": {},
   "outputs": [],
   "source": [
    "import pandas as pd\n",
    "import numpy as np\n",
    "import json\n",
    "import matplotlib.pyplot as plt\n",
    "import seaborn as sns\n",
    "import plotly.express as px\n",
    "\n",
    "from API_key import *\n",
    "from BrawlstarsStats import *"
   ]
  },
  {
   "cell_type": "code",
   "execution_count": null,
   "metadata": {},
   "outputs": [],
   "source": [
    "country_code = 'global'\n",
    "data = r.get('https://api.brawlstars.com/v1/rankings/' + country_code +'/players', headers= headers).json()"
   ]
  },
  {
   "cell_type": "code",
   "execution_count": null,
   "metadata": {
    "scrolled": true
   },
   "outputs": [],
   "source": [
    "data"
   ]
  },
  {
   "cell_type": "markdown",
   "metadata": {},
   "source": [
    "## Run Everything"
   ]
  },
  {
   "cell_type": "code",
   "execution_count": null,
   "metadata": {
    "scrolled": true
   },
   "outputs": [],
   "source": [
    "%%time\n",
    "country_code='global'\n",
    "BSd = BSdata(country_code, headers)\n",
    "df, player_id, battle_log_data = BSd.makeDataframe()"
   ]
  },
  {
   "cell_type": "code",
   "execution_count": null,
   "metadata": {
    "scrolled": true
   },
   "outputs": [],
   "source": [
    "%%time\n",
    "BSbl = BSbattlelog(player_id, headers, battle_log_data)\n",
    "df_3v3 = BSbl.makeDataFrame_usage_3v3()\n",
    "df_solo = BSbl.makeDataFrame_usage_3v3(solo=True)\n",
    "df_total = df_3v3.append(df_solo)"
   ]
  },
  {
   "cell_type": "markdown",
   "metadata": {},
   "source": [
    "## Plot test"
   ]
  },
  {
   "cell_type": "markdown",
   "metadata": {},
   "source": [
    "### Saved DATA"
   ]
  },
  {
   "cell_type": "code",
   "execution_count": null,
   "metadata": {},
   "outputs": [],
   "source": [
    "saved = {\"items\":[{\"battleTime\":\"20191123T220445.000Z\",\"event\":{\"id\":15000118,\"mode\":\"brawlBall\",\"map\":\"Pinball Dreams\"},\"battle\":{\"mode\":\"brawlBall\",\"type\":\"ranked\",\"result\":\"defeat\",\"duration\":150,\"trophyChange\":-6,\"starPlayer\":{\"tag\":\"#8UPVCQR0G\",\"name\":\"Ban\",\"brawler\":{\"id\":16000004,\"name\":\"RICO\",\"power\":10,\"trophies\":565}},\"teams\":[[{\"tag\":\"#8L9LLP8P\",\"name\":\"<c5>LHS</c>\",\"brawler\":{\"id\":16000000,\"name\":\"SHELLY\",\"power\":10,\"trophies\":539}},{\"tag\":\"#2PJLYCLG\",\"name\":\"HVC | Jonny\",\"brawler\":{\"id\":16000010,\"name\":\"EL PRIMO\",\"power\":10,\"trophies\":541}},{\"tag\":\"#22J9VP9QJ\",\"name\":\"ricky\",\"brawler\":{\"id\":16000007,\"name\":\"JESSIE\",\"power\":9,\"trophies\":602}}],[{\"tag\":\"#8UPVCQR0G\",\"name\":\"Ban\",\"brawler\":{\"id\":16000004,\"name\":\"RICO\",\"power\":10,\"trophies\":565}},{\"tag\":\"#8YUGL2UU\",\"name\":\"alexpro26\",\"brawler\":{\"id\":16000021,\"name\":\"GENE\",\"power\":10,\"trophies\":581}},{\"tag\":\"#8YRL8UU29\",\"name\":\"Emiliano Zapata\",\"brawler\":{\"id\":16000020,\"name\":\"FRANK\",\"power\":10,\"trophies\":584}}]]}},{\"battleTime\":\"20191123T220152.000Z\",\"event\":{\"id\":15000118,\"mode\":\"brawlBall\",\"map\":\"Pinball Dreams\"},\"battle\":{\"mode\":\"brawlBall\",\"type\":\"ranked\",\"result\":\"victory\",\"duration\":87,\"trophyChange\":8,\"starPlayer\":{\"tag\":\"#2PJLYCLG\",\"name\":\"HVC | Jonny\",\"brawler\":{\"id\":16000010,\"name\":\"EL PRIMO\",\"power\":10,\"trophies\":533}},\"teams\":[[{\"tag\":\"#2PJLYCLG\",\"name\":\"HVC | Jonny\",\"brawler\":{\"id\":16000010,\"name\":\"EL PRIMO\",\"power\":10,\"trophies\":533}},{\"tag\":\"#8L9LLP8P\",\"name\":\"<c5>LHS</c>\",\"brawler\":{\"id\":16000000,\"name\":\"SHELLY\",\"power\":10,\"trophies\":531}},{\"tag\":\"#2P900CQ09\",\"name\":\"piggu ziggu\",\"brawler\":{\"id\":16000011,\"name\":\"MORTIS\",\"power\":10,\"trophies\":602}}],[{\"tag\":\"#PRYCLJVP\",\"name\":\"SPECHELL\",\"brawler\":{\"id\":16000012,\"name\":\"CROW\",\"power\":10,\"trophies\":547}},{\"tag\":\"#28VQQ2999\",\"name\":\"UAMEL\",\"brawler\":{\"id\":16000013,\"name\":\"POCO\",\"power\":9,\"trophies\":490}},{\"tag\":\"#8CGLLGGR\",\"name\":\"coolwater\",\"brawler\":{\"id\":16000014,\"name\":\"BO\",\"power\":10,\"trophies\":605}}]]}},{\"battleTime\":\"20191123T220059.000Z\",\"event\":{\"id\":15000126,\"mode\":\"duoShowdown\",\"map\":\"Royal Runway\"},\"battle\":{\"mode\":\"duoShowdown\",\"type\":\"ranked\",\"rank\":5,\"trophyChange\":-8,\"teams\":[[{\"tag\":\"#LUVRGJUQ\",\"name\":\"Madorix\",\"brawler\":{\"id\":16000020,\"name\":\"FRANK\",\"power\":10,\"trophies\":668}},{\"tag\":\"#YQPYCYP0\",\"name\":\"EP256\",\"brawler\":{\"id\":16000025,\"name\":\"CARL\",\"power\":10,\"trophies\":717}}],[{\"tag\":\"#2U2RGQPYP\",\"name\":\"Blazee!!!\",\"brawler\":{\"id\":16000012,\"name\":\"CROW\",\"power\":4,\"trophies\":612}},{\"tag\":\"#92Y8Y2C20\",\"name\":\"Lyrical :)\",\"brawler\":{\"id\":16000015,\"name\":\"PIPER\",\"power\":6,\"trophies\":608}}],[{\"tag\":\"#P9CL2JG8U\",\"name\":\"Michael _YT\",\"brawler\":{\"id\":16000002,\"name\":\"BULL\",\"power\":7,\"trophies\":688}},{\"tag\":\"#V2JL9U2\",\"name\":\"Henry\",\"brawler\":{\"id\":16000011,\"name\":\"MORTIS\",\"power\":10,\"trophies\":681}}],[{\"tag\":\"#9PJGURPPQ\",\"name\":\"anthoney\",\"brawler\":{\"id\":16000003,\"name\":\"BROCK\",\"power\":4,\"trophies\":438}},{\"tag\":\"#98PQCR9G2\",\"name\":\"RRboss1468\",\"brawler\":{\"id\":16000012,\"name\":\"CROW\",\"power\":8,\"trophies\":624}}],[{\"tag\":\"#2PJLYCLG\",\"name\":\"HVC | Jonny\",\"brawler\":{\"id\":16000015,\"name\":\"PIPER\",\"power\":10,\"trophies\":588}},{\"tag\":\"#8L9LLP8P\",\"name\":\"<c5>LHS</c>\",\"brawler\":{\"id\":16000011,\"name\":\"MORTIS\",\"power\":10,\"trophies\":604}}]]}},{\"battleTime\":\"20191123T215842.000Z\",\"event\":{\"id\":15000126,\"mode\":\"duoShowdown\",\"map\":\"Royal Runway\"},\"battle\":{\"mode\":\"duoShowdown\",\"type\":\"ranked\",\"rank\":3,\"teams\":[[{\"tag\":\"#80G8LPRP\",\"name\":\"chubo\",\"brawler\":{\"id\":16000012,\"name\":\"CROW\",\"power\":10,\"trophies\":690}},{\"tag\":\"#8J0U0UJPL\",\"name\":\"basicgurly\",\"brawler\":{\"id\":16000000,\"name\":\"SHELLY\",\"power\":10,\"trophies\":660}}],[{\"tag\":\"#88JVR8JGV\",\"name\":\"Delt∆\",\"brawler\":{\"id\":16000023,\"name\":\"LEON\",\"power\":8,\"trophies\":698}},{\"tag\":\"#8Y8U9VQC9\",\"name\":\"jump1\",\"brawler\":{\"id\":16000021,\"name\":\"GENE\",\"power\":7,\"trophies\":597}}],[{\"tag\":\"#8L9LLP8P\",\"name\":\"<c5>LHS</c>\",\"brawler\":{\"id\":16000011,\"name\":\"MORTIS\",\"power\":10,\"trophies\":604}},{\"tag\":\"#2PJLYCLG\",\"name\":\"HVC | Jonny\",\"brawler\":{\"id\":16000015,\"name\":\"PIPER\",\"power\":10,\"trophies\":588}}],[{\"tag\":\"#2VGLJGLY8\",\"name\":\"Raúl mt\",\"brawler\":{\"id\":16000015,\"name\":\"PIPER\",\"power\":7,\"trophies\":659}},{\"tag\":\"#8G08JYYP2\",\"name\":\"///wilson///\",\"brawler\":{\"id\":16000015,\"name\":\"PIPER\",\"power\":6,\"trophies\":629}}],[{\"tag\":\"#PGL9PG0\",\"name\":\"Mac\",\"brawler\":{\"id\":16000023,\"name\":\"LEON\",\"power\":10,\"trophies\":696}},{\"tag\":\"#GQ0UVLJQ\",\"name\":\"YT_AL4L3S3\",\"brawler\":{\"id\":16000010,\"name\":\"EL PRIMO\",\"power\":10,\"trophies\":593}}]]}},{\"battleTime\":\"20191123T215723.000Z\",\"event\":{\"id\":15000126,\"mode\":\"duoShowdown\",\"map\":\"Royal Runway\"},\"battle\":{\"mode\":\"duoShowdown\",\"type\":\"ranked\",\"rank\":5,\"trophyChange\":-8,\"teams\":[[{\"tag\":\"#82ULLRUU\",\"name\":\"Yoseph\",\"brawler\":{\"id\":16000012,\"name\":\"CROW\",\"power\":10,\"trophies\":645}},{\"tag\":\"#2RVJJUYGP\",\"name\":\"pikazo\",\"brawler\":{\"id\":16000015,\"name\":\"PIPER\",\"power\":10,\"trophies\":635}}],[{\"tag\":\"#UGRLRVLR\",\"name\":\"Pikachu\",\"brawler\":{\"id\":16000007,\"name\":\"JESSIE\",\"power\":10,\"trophies\":559}},{\"tag\":\"#QLCYPJJ0\",\"name\":\"Wienerbuns11\",\"brawler\":{\"id\":16000016,\"name\":\"PAM\",\"power\":10,\"trophies\":443}}],[{\"tag\":\"#GPUP8Y08\",\"name\":\"Ares\",\"brawler\":{\"id\":16000008,\"name\":\"NITA\",\"power\":10,\"trophies\":629}},{\"tag\":\"#RQYJ08PR\",\"name\":\"CR7\",\"brawler\":{\"id\":16000015,\"name\":\"PIPER\",\"power\":10,\"trophies\":613}}],[{\"tag\":\"#2PG09RU98\",\"name\":\"Revan\",\"brawler\":{\"id\":16000012,\"name\":\"CROW\",\"power\":10,\"trophies\":607}},{\"tag\":\"#9QC89CGP\",\"name\":\"Arangure11\",\"brawler\":{\"id\":16000012,\"name\":\"CROW\",\"power\":3,\"trophies\":666}}],[{\"tag\":\"#2PJLYCLG\",\"name\":\"HVC | Jonny\",\"brawler\":{\"id\":16000015,\"name\":\"PIPER\",\"power\":10,\"trophies\":594}},{\"tag\":\"#8L9LLP8P\",\"name\":\"<c5>LHS</c>\",\"brawler\":{\"id\":16000011,\"name\":\"MORTIS\",\"power\":10,\"trophies\":612}}]]}},{\"battleTime\":\"20191123T215557.000Z\",\"event\":{\"id\":15000126,\"mode\":\"duoShowdown\",\"map\":\"Royal Runway\"},\"battle\":{\"mode\":\"duoShowdown\",\"type\":\"ranked\",\"rank\":3,\"teams\":[[{\"tag\":\"#R0YUY20G\",\"name\":\"⭐Jordan⭐\",\"brawler\":{\"id\":16000015,\"name\":\"PIPER\",\"power\":7,\"trophies\":638}},{\"tag\":\"#8Q9J0QCJ\",\"name\":\"AUG A3`\",\"brawler\":{\"id\":16000023,\"name\":\"LEON\",\"power\":10,\"trophies\":641}}],[{\"tag\":\"#PL000UL0\",\"name\":\"Fox\",\"brawler\":{\"id\":16000021,\"name\":\"GENE\",\"power\":9,\"trophies\":612}},{\"tag\":\"#CQLVYJGL\",\"name\":\"•《ARTURO:V》•\",\"brawler\":{\"id\":16000004,\"name\":\"RICO\",\"power\":7,\"trophies\":664}}],[{\"tag\":\"#2PJLYCLG\",\"name\":\"HVC | Jonny\",\"brawler\":{\"id\":16000015,\"name\":\"PIPER\",\"power\":10,\"trophies\":594}},{\"tag\":\"#8L9LLP8P\",\"name\":\"<c5>LHS</c>\",\"brawler\":{\"id\":16000011,\"name\":\"MORTIS\",\"power\":10,\"trophies\":612}}],[{\"tag\":\"#20G22UQ82\",\"name\":\"CAYLOS\",\"brawler\":{\"id\":16000001,\"name\":\"COLT\",\"power\":10,\"trophies\":643}},{\"tag\":\"#2VC8LU0R\",\"name\":\"roshhh\",\"brawler\":{\"id\":16000015,\"name\":\"PIPER\",\"power\":5,\"trophies\":626}}],[{\"tag\":\"#28RQGJR0V\",\"name\":\"R$\",\"brawler\":{\"id\":16000023,\"name\":\"LEON\",\"power\":10,\"trophies\":583}},{\"tag\":\"#2JV998VJ\",\"name\":\"Happycoolguy\",\"brawler\":{\"id\":16000006,\"name\":\"BARLEY\",\"power\":10,\"trophies\":341}}]]}},{\"battleTime\":\"20191123T215420.000Z\",\"event\":{\"id\":15000126,\"mode\":\"duoShowdown\",\"map\":\"Royal Runway\"},\"battle\":{\"mode\":\"duoShowdown\",\"type\":\"ranked\",\"rank\":4,\"trophyChange\":-6,\"teams\":[[{\"tag\":\"#PV02G8QU\",\"name\":\"Hyp3r\",\"brawler\":{\"id\":16000005,\"name\":\"SPIKE\",\"power\":10,\"trophies\":712}},{\"tag\":\"#80Y9J0PV\",\"name\":\"Orange_Dino\",\"brawler\":{\"id\":16000015,\"name\":\"PIPER\",\"power\":9,\"trophies\":634}}],[{\"tag\":\"#JCL8R9P\",\"name\":\"Mason357\",\"brawler\":{\"id\":16000001,\"name\":\"COLT\",\"power\":10,\"trophies\":694}},{\"tag\":\"#CG0YUGG\",\"name\":\"Peanut Butter\",\"brawler\":{\"id\":16000023,\"name\":\"LEON\",\"power\":10,\"trophies\":678}}],[{\"tag\":\"#82VCJ0RC\",\"name\":\"Mr Toast117\",\"brawler\":{\"id\":16000012,\"name\":\"CROW\",\"power\":10,\"trophies\":705}},{\"tag\":\"#GQLRV2Q\",\"name\":\"FEARtheGinge\",\"brawler\":{\"id\":16000003,\"name\":\"BROCK\",\"power\":10,\"trophies\":599}}],[{\"tag\":\"#8L9LLP8P\",\"name\":\"<c5>LHS</c>\",\"brawler\":{\"id\":16000011,\"name\":\"MORTIS\",\"power\":10,\"trophies\":618}},{\"tag\":\"#2PJLYCLG\",\"name\":\"HVC | Jonny\",\"brawler\":{\"id\":16000015,\"name\":\"PIPER\",\"power\":10,\"trophies\":599}}],[{\"tag\":\"#2LLQ0UUJQ\",\"name\":\"HeavyMetalEddy\",\"brawler\":{\"id\":16000026,\"name\":\"BIBI\",\"power\":2,\"trophies\":222}},{\"tag\":\"#YGLP8PRJ\",\"name\":\"Juan_M\",\"brawler\":{\"id\":16000023,\"name\":\"LEON\",\"power\":8,\"trophies\":699}}]]}},{\"battleTime\":\"20191123T215147.000Z\",\"event\":{\"id\":15000126,\"mode\":\"duoShowdown\",\"map\":\"Royal Runway\"},\"battle\":{\"mode\":\"duoShowdown\",\"type\":\"ranked\",\"rank\":1,\"trophyChange\":9,\"teams\":[[{\"tag\":\"#8L9LLP8P\",\"name\":\"<c5>LHS</c>\",\"brawler\":{\"id\":16000011,\"name\":\"MORTIS\",\"power\":10,\"trophies\":609}},{\"tag\":\"#2PJLYCLG\",\"name\":\"HVC | Jonny\",\"brawler\":{\"id\":16000015,\"name\":\"PIPER\",\"power\":10,\"trophies\":590}}],[{\"tag\":\"#G9GVVQVV\",\"name\":\"Asian Invasion\",\"brawler\":{\"id\":16000004,\"name\":\"RICO\",\"power\":10,\"trophies\":637}},{\"tag\":\"#8PPCV2QRL\",\"name\":\"Ic3scr3am\",\"brawler\":{\"id\":16000015,\"name\":\"PIPER\",\"power\":7,\"trophies\":698}}],[{\"tag\":\"#V2880VG8\",\"name\":\"December\",\"brawler\":{\"id\":16000012,\"name\":\"CROW\",\"power\":6,\"trophies\":589}},{\"tag\":\"#28Q08RCPR\",\"name\":\"jesh\",\"brawler\":{\"id\":16000023,\"name\":\"LEON\",\"power\":10,\"trophies\":614}}],[{\"tag\":\"#282LP02R8\",\"name\":\"TRS Rush 18\",\"brawler\":{\"id\":16000021,\"name\":\"GENE\",\"power\":7,\"trophies\":598}},{\"tag\":\"#2VGGCR90U\",\"name\":\"TRS Rush 4\",\"brawler\":{\"id\":16000015,\"name\":\"PIPER\",\"power\":7,\"trophies\":540}}],[{\"tag\":\"#2JGY80UYV\",\"name\":\"YAHMON\",\"brawler\":{\"id\":16000015,\"name\":\"PIPER\",\"power\":8,\"trophies\":636}},{\"tag\":\"#89UQGC8G8\",\"name\":\"PhotoShop Jinjo\",\"brawler\":{\"id\":16000007,\"name\":\"JESSIE\",\"power\":10,\"trophies\":681}}]]}},{\"battleTime\":\"20191123T214931.000Z\",\"event\":{\"id\":15000126,\"mode\":\"duoShowdown\",\"map\":\"Royal Runway\"},\"battle\":{\"mode\":\"duoShowdown\",\"type\":\"ranked\",\"rank\":3,\"teams\":[[{\"tag\":\"#20PL9RJV\",\"name\":\"NiNjANuGGeT\",\"brawler\":{\"id\":16000012,\"name\":\"CROW\",\"power\":10,\"trophies\":719}},{\"tag\":\"#8VRLVV22U\",\"name\":\"Bowfire\",\"brawler\":{\"id\":16000015,\"name\":\"PIPER\",\"power\":10,\"trophies\":788}}],[{\"tag\":\"#2UQ9PPY0\",\"name\":\"LuisAngel!!\",\"brawler\":{\"id\":16000008,\"name\":\"NITA\",\"power\":10,\"trophies\":725}},{\"tag\":\"#C98LJVR0\",\"name\":\"Emmanuel ♥️\",\"brawler\":{\"id\":16000019,\"name\":\"PENNY\",\"power\":9,\"trophies\":787}}],[{\"tag\":\"#8L9LLP8P\",\"name\":\"<c5>LHS</c>\",\"brawler\":{\"id\":16000011,\"name\":\"MORTIS\",\"power\":10,\"trophies\":609}},{\"tag\":\"#2PJLYCLG\",\"name\":\"HVC | Jonny\",\"brawler\":{\"id\":16000015,\"name\":\"PIPER\",\"power\":10,\"trophies\":590}}],[{\"tag\":\"#8QYGLGYYU\",\"name\":\"nct\",\"brawler\":{\"id\":16000018,\"name\":\"DARRYL\",\"power\":3,\"trophies\":513}},{\"tag\":\"#80292YVRR\",\"name\":\":)\",\"brawler\":{\"id\":16000015,\"name\":\"PIPER\",\"power\":10,\"trophies\":621}}],[{\"tag\":\"#208C89LP\",\"name\":\"Gabebro\",\"brawler\":{\"id\":16000015,\"name\":\"PIPER\",\"power\":10,\"trophies\":580}},{\"tag\":\"#LURU8V09\",\"name\":\"Hugh Jass Bro\",\"brawler\":{\"id\":16000012,\"name\":\"CROW\",\"power\":10,\"trophies\":667}}]]}},{\"battleTime\":\"20191123T214613.000Z\",\"event\":{\"id\":15000126,\"mode\":\"duoShowdown\",\"map\":\"Royal Runway\"},\"battle\":{\"mode\":\"duoShowdown\",\"type\":\"ranked\",\"rank\":1,\"trophyChange\":9,\"teams\":[[{\"tag\":\"#8L9LLP8P\",\"name\":\"<c5>LHS</c>\",\"brawler\":{\"id\":16000011,\"name\":\"MORTIS\",\"power\":10,\"trophies\":600}},{\"tag\":\"#2PJLYCLG\",\"name\":\"HVC | Jonny\",\"brawler\":{\"id\":16000015,\"name\":\"PIPER\",\"power\":10,\"trophies\":581}}],[{\"tag\":\"#LLGYVPP\",\"name\":\"HypnoPig\",\"brawler\":{\"id\":16000021,\"name\":\"GENE\",\"power\":10,\"trophies\":585}},{\"tag\":\"#JJUQLLUJ\",\"name\":\"weasel\",\"brawler\":{\"id\":16000013,\"name\":\"POCO\",\"power\":5,\"trophies\":381}}],[{\"tag\":\"#QVP8QGGJ\",\"name\":\"james\",\"brawler\":{\"id\":16000022,\"name\":\"TICK\",\"power\":8,\"trophies\":582}},{\"tag\":\"#PURQ8VYU\",\"name\":\"jojo\",\"brawler\":{\"id\":16000003,\"name\":\"BROCK\",\"power\":10,\"trophies\":498}}],[{\"tag\":\"#9C9Y0L2YJ\",\"name\":\"Bot_Boi2\",\"brawler\":{\"id\":16000023,\"name\":\"LEON\",\"power\":10,\"trophies\":691}},{\"tag\":\"#9G2LCV99R\",\"name\":\"☣kody2007☣\",\"brawler\":{\"id\":16000015,\"name\":\"PIPER\",\"power\":5,\"trophies\":304}}],[{\"tag\":\"#ULCQ8000\",\"name\":\"muzi\",\"brawler\":{\"id\":16000011,\"name\":\"MORTIS\",\"power\":10,\"trophies\":682}},{\"tag\":\"#8Y8GRLG0Q\",\"name\":\"TheBestBrawler\",\"brawler\":{\"id\":16000024,\"name\":\"ROSA\",\"power\":10,\"trophies\":637}}]]}},{\"battleTime\":\"20191123T214336.000Z\",\"event\":{\"id\":15000126,\"mode\":\"duoShowdown\",\"map\":\"Royal Runway\"},\"battle\":{\"mode\":\"duoShowdown\",\"type\":\"ranked\",\"rank\":2,\"trophyChange\":7,\"teams\":[[{\"tag\":\"#20Q88J9Q\",\"name\":\"Haku\",\"brawler\":{\"id\":16000015,\"name\":\"PIPER\",\"power\":9,\"trophies\":550}},{\"tag\":\"#UVCYUJJ2\",\"name\":\"09FishBoy\",\"brawler\":{\"id\":16000012,\"name\":\"CROW\",\"power\":10,\"trophies\":592}}],[{\"tag\":\"#8L9LLP8P\",\"name\":\"<c5>LHS</c>\",\"brawler\":{\"id\":16000011,\"name\":\"MORTIS\",\"power\":10,\"trophies\":593}},{\"tag\":\"#2PJLYCLG\",\"name\":\"HVC | Jonny\",\"brawler\":{\"id\":16000015,\"name\":\"PIPER\",\"power\":10,\"trophies\":574}}],[{\"tag\":\"#2UPQQUJ8V\",\"name\":\"Derzktea\",\"brawler\":{\"id\":16000012,\"name\":\"CROW\",\"power\":5,\"trophies\":562}},{\"tag\":\"#29JYJRQ9G\",\"name\":\"Festive\",\"brawler\":{\"id\":16000011,\"name\":\"MORTIS\",\"power\":10,\"trophies\":588}}],[{\"tag\":\"#2008R292\",\"name\":\"Andy\",\"brawler\":{\"id\":16000021,\"name\":\"GENE\",\"power\":6,\"trophies\":438}},{\"tag\":\"#CCRQR8U\",\"name\":\"SamuelEvansGood\",\"brawler\":{\"id\":16000015,\"name\":\"PIPER\",\"power\":8,\"trophies\":581}}],[{\"tag\":\"#28GJ98C9J\",\"name\":\"FERRARI\",\"brawler\":{\"id\":16000003,\"name\":\"BROCK\",\"power\":8,\"trophies\":416}},{\"tag\":\"#VPVJJ0L9\",\"name\":\"THE BYROM\",\"brawler\":{\"id\":16000024,\"name\":\"ROSA\",\"power\":5,\"trophies\":605}}]]}},{\"battleTime\":\"20191123T214248.000Z\",\"event\":{\"id\":15000126,\"mode\":\"duoShowdown\",\"map\":\"Royal Runway\"},\"battle\":{\"mode\":\"duoShowdown\",\"type\":\"ranked\",\"rank\":5,\"trophyChange\":-8,\"teams\":[[{\"tag\":\"#GP0JLP0Y\",\"name\":\"Mr. M\",\"brawler\":{\"id\":16000021,\"name\":\"GENE\",\"power\":8,\"trophies\":580}},{\"tag\":\"#YJCY9G9\",\"name\":\"^Pekaz^\",\"brawler\":{\"id\":16000002,\"name\":\"BULL\",\"power\":10,\"trophies\":592}}],[{\"tag\":\"#PQGCUYC\",\"name\":\">JaJaNomeviste<\",\"brawler\":{\"id\":16000007,\"name\":\"JESSIE\",\"power\":10,\"trophies\":535}},{\"tag\":\"#VYJ0CLP\",\"name\":\"Dann\",\"brawler\":{\"id\":16000003,\"name\":\"BROCK\",\"power\":10,\"trophies\":613}}],[{\"tag\":\"#9RL8RGYV\",\"name\":\"Estebanblak\",\"brawler\":{\"id\":16000023,\"name\":\"LEON\",\"power\":7,\"trophies\":615}},{\"tag\":\"#28QYPJUPG\",\"name\":\"victorx9\",\"brawler\":{\"id\":16000012,\"name\":\"CROW\",\"power\":10,\"trophies\":613}}],[{\"tag\":\"#YLVQY9YG\",\"name\":\"JetLi\",\"brawler\":{\"id\":16000012,\"name\":\"CROW\",\"power\":10,\"trophies\":651}},{\"tag\":\"#8L98JUU28\",\"name\":\"HC|DiegoKun\",\"brawler\":{\"id\":16000011,\"name\":\"MORTIS\",\"power\":2,\"trophies\":614}}],[{\"tag\":\"#8L9LLP8P\",\"name\":\"<c5>LHS</c>\",\"brawler\":{\"id\":16000011,\"name\":\"MORTIS\",\"power\":10,\"trophies\":601}},{\"tag\":\"#2PJLYCLG\",\"name\":\"HVC | Jonny\",\"brawler\":{\"id\":16000015,\"name\":\"PIPER\",\"power\":10,\"trophies\":580}}]]}},{\"battleTime\":\"20191123T214003.000Z\",\"event\":{\"id\":15000126,\"mode\":\"duoShowdown\",\"map\":\"Royal Runway\"},\"battle\":{\"mode\":\"duoShowdown\",\"type\":\"ranked\",\"rank\":2,\"trophyChange\":7,\"teams\":[[{\"tag\":\"#JCLYLYJ\",\"name\":\"Sauce\",\"brawler\":{\"id\":16000023,\"name\":\"LEON\",\"power\":9,\"trophies\":603}},{\"tag\":\"#L00YLYJ\",\"name\":\"CPTN BRANDO\",\"brawler\":{\"id\":16000015,\"name\":\"PIPER\",\"power\":10,\"trophies\":604}}],[{\"tag\":\"#8L9LLP8P\",\"name\":\"<c5>LHS</c>\",\"brawler\":{\"id\":16000011,\"name\":\"MORTIS\",\"power\":10,\"trophies\":594}},{\"tag\":\"#2PJLYCLG\",\"name\":\"HVC | Jonny\",\"brawler\":{\"id\":16000015,\"name\":\"PIPER\",\"power\":10,\"trophies\":573}}],[{\"tag\":\"#2YQGYUY0Y\",\"name\":\"SEJDRACO\",\"brawler\":{\"id\":16000003,\"name\":\"BROCK\",\"power\":10,\"trophies\":609}},{\"tag\":\"#28YRPRCVU\",\"name\":\"★฿lack฿oyℽ★\",\"brawler\":{\"id\":16000000,\"name\":\"SHELLY\",\"power\":10,\"trophies\":600}}],[{\"tag\":\"#99QLUQYY\",\"name\":\"diaz\",\"brawler\":{\"id\":16000015,\"name\":\"PIPER\",\"power\":7,\"trophies\":594}},{\"tag\":\"#P0QUPY292\",\"name\":\"Bonbon\",\"brawler\":{\"id\":16000001,\"name\":\"COLT\",\"power\":7,\"trophies\":641}}],[{\"tag\":\"#RU9C0JRV\",\"name\":\"✨⚜️Balamyt⚜️✨\",\"brawler\":{\"id\":16000021,\"name\":\"GENE\",\"power\":1,\"trophies\":86}},{\"tag\":\"#RYGCGPVJ\",\"name\":\"Ànonymous\",\"brawler\":{\"id\":16000001,\"name\":\"COLT\",\"power\":10,\"trophies\":560}}]]}},{\"battleTime\":\"20191123T213817.000Z\",\"event\":{\"id\":15000126,\"mode\":\"duoShowdown\",\"map\":\"Royal Runway\"},\"battle\":{\"mode\":\"duoShowdown\",\"type\":\"ranked\",\"rank\":2,\"trophyChange\":7,\"teams\":[[{\"tag\":\"#CG0GQLLU\",\"name\":\"FireWar two\",\"brawler\":{\"id\":16000021,\"name\":\"GENE\",\"power\":8,\"trophies\":559}},{\"tag\":\"#CG08VV2Q\",\"name\":\"snop\",\"brawler\":{\"id\":16000018,\"name\":\"DARRYL\",\"power\":10,\"trophies\":589}}],[{\"tag\":\"#2PJLYCLG\",\"name\":\"HVC | Jonny\",\"brawler\":{\"id\":16000015,\"name\":\"PIPER\",\"power\":10,\"trophies\":566}},{\"tag\":\"#8L9LLP8P\",\"name\":\"<c5>LHS</c>\",\"brawler\":{\"id\":16000011,\"name\":\"MORTIS\",\"power\":10,\"trophies\":587}}],[{\"tag\":\"#2URPCRJGL\",\"name\":\"qlgswerve\",\"brawler\":{\"id\":16000012,\"name\":\"CROW\",\"power\":10,\"trophies\":634}},{\"tag\":\"#800CGVCR\",\"name\":\"yyuf&f\",\"brawler\":{\"id\":16000015,\"name\":\"PIPER\",\"power\":10,\"trophies\":641}}],[{\"tag\":\"#2LRCGLYGU\",\"name\":\"cubicmonomer\",\"brawler\":{\"id\":16000001,\"name\":\"COLT\",\"power\":10,\"trophies\":502}},{\"tag\":\"#CV92YR80\",\"name\":\"dmoney.\",\"brawler\":{\"id\":16000016,\"name\":\"PAM\",\"power\":10,\"trophies\":577}}],[{\"tag\":\"#8RPCVLCQ\",\"name\":\"Jo\",\"brawler\":{\"id\":16000008,\"name\":\"NITA\",\"power\":8,\"trophies\":491}},{\"tag\":\"#YPCVP8V\",\"name\":\"Gods Die\",\"brawler\":{\"id\":16000028,\"name\":\"SANDY\",\"power\":10,\"trophies\":565}}]]}},{\"battleTime\":\"20191123T213558.000Z\",\"event\":{\"id\":15000126,\"mode\":\"duoShowdown\",\"map\":\"Royal Runway\"},\"battle\":{\"mode\":\"duoShowdown\",\"type\":\"ranked\",\"rank\":4,\"trophyChange\":-5,\"teams\":[[{\"tag\":\"#2J0LRLJR\",\"name\":\"UR @$$ DUDE\",\"brawler\":{\"id\":16000012,\"name\":\"CROW\",\"power\":10,\"trophies\":694}},{\"tag\":\"#GGLYLLRU\",\"name\":\"☆P0NCE☆\",\"brawler\":{\"id\":16000015,\"name\":\"PIPER\",\"power\":9,\"trophies\":716}}],[{\"tag\":\"#88CQPC8G\",\"name\":\"Lex\",\"brawler\":{\"id\":16000012,\"name\":\"CROW\",\"power\":10,\"trophies\":665}},{\"tag\":\"#JUJJCL8J\",\"name\":\"StardustPaladin\",\"brawler\":{\"id\":16000015,\"name\":\"PIPER\",\"power\":10,\"trophies\":687}}],[{\"tag\":\"#2C0P0ULP\",\"name\":\"Mausantos\",\"brawler\":{\"id\":16000015,\"name\":\"PIPER\",\"power\":8,\"trophies\":596}},{\"tag\":\"#8YUR0J0G\",\"name\":\"Jimmy\",\"brawler\":{\"id\":16000012,\"name\":\"CROW\",\"power\":10,\"trophies\":633}}],[{\"tag\":\"#2PJLYCLG\",\"name\":\"HVC | Jonny\",\"brawler\":{\"id\":16000011,\"name\":\"MORTIS\",\"power\":10,\"trophies\":662}},{\"tag\":\"#8L9LLP8P\",\"name\":\"<c5>LHS</c>\",\"brawler\":{\"id\":16000015,\"name\":\"PIPER\",\"power\":10,\"trophies\":553}}],[{\"tag\":\"#9GGVVUU00\",\"name\":\"ham\",\"brawler\":{\"id\":16000021,\"name\":\"GENE\",\"power\":6,\"trophies\":572}},{\"tag\":\"#LGCLV890\",\"name\":\"Mr. Leanard\",\"brawler\":{\"id\":16000000,\"name\":\"SHELLY\",\"power\":4,\"trophies\":48}}]]}},{\"battleTime\":\"20191123T213320.000Z\",\"event\":{\"id\":15000126,\"mode\":\"duoShowdown\",\"map\":\"Royal Runway\"},\"battle\":{\"mode\":\"duoShowdown\",\"type\":\"ranked\",\"rank\":3,\"teams\":[[{\"tag\":\"#VLUR0YQ\",\"name\":\"Igneel\",\"brawler\":{\"id\":16000012,\"name\":\"CROW\",\"power\":10,\"trophies\":641}},{\"tag\":\"#28YPGPUUR\",\"name\":\"Ares\",\"brawler\":{\"id\":16000022,\"name\":\"TICK\",\"power\":7,\"trophies\":493}}],[{\"tag\":\"#8Q8GVGJP\",\"name\":\"Tybutt\",\"brawler\":{\"id\":16000003,\"name\":\"BROCK\",\"power\":10,\"trophies\":554}},{\"tag\":\"#8YPURVP22\",\"name\":\"Jacobtowavyy_YT\",\"brawler\":{\"id\":16000012,\"name\":\"CROW\",\"power\":10,\"trophies\":648}}],[{\"tag\":\"#2PJLYCLG\",\"name\":\"HVC | Jonny\",\"brawler\":{\"id\":16000011,\"name\":\"MORTIS\",\"power\":10,\"trophies\":662}},{\"tag\":\"#8L9LLP8P\",\"name\":\"<c5>LHS</c>\",\"brawler\":{\"id\":16000015,\"name\":\"PIPER\",\"power\":10,\"trophies\":553}}],[{\"tag\":\"#22YP8RJR9\",\"name\":\"Pickle Rick!\",\"brawler\":{\"id\":16000012,\"name\":\"CROW\",\"power\":10,\"trophies\":603}},{\"tag\":\"#99U90V8G\",\"name\":\"Pow3rFull02\",\"brawler\":{\"id\":16000015,\"name\":\"PIPER\",\"power\":10,\"trophies\":613}}],[{\"tag\":\"#28R900G0P\",\"name\":\"☣ĞÆŁ☣\",\"brawler\":{\"id\":16000019,\"name\":\"PENNY\",\"power\":10,\"trophies\":695}},{\"tag\":\"#9QUPJJ8V\",\"name\":\"w00zi_17\",\"brawler\":{\"id\":16000015,\"name\":\"PIPER\",\"power\":7,\"trophies\":601}}]]}},{\"battleTime\":\"20191123T213159.000Z\",\"event\":{\"id\":15000126,\"mode\":\"duoShowdown\",\"map\":\"Royal Runway\"},\"battle\":{\"mode\":\"duoShowdown\",\"type\":\"ranked\",\"rank\":5,\"trophyChange\":-6,\"teams\":[[{\"tag\":\"#LCYPLYRL\",\"name\":\"ethanteam\",\"brawler\":{\"id\":16000015,\"name\":\"PIPER\",\"power\":10,\"trophies\":711}},{\"tag\":\"#P2J8GCV2\",\"name\":\"ThiccieVicky\",\"brawler\":{\"id\":16000007,\"name\":\"JESSIE\",\"power\":10,\"trophies\":713}}],[{\"tag\":\"#2PYG8VG9Q\",\"name\":\"and\",\"brawler\":{\"id\":16000021,\"name\":\"GENE\",\"power\":10,\"trophies\":619}},{\"tag\":\"#RRUPYJPR\",\"name\":\"Thekiwis\",\"brawler\":{\"id\":16000015,\"name\":\"PIPER\",\"power\":10,\"trophies\":577}}],[{\"tag\":\"#R0YY9UGJ\",\"name\":\"Imcr4zee\",\"brawler\":{\"id\":16000027,\"name\":\"8-BIT\",\"power\":10,\"trophies\":568}},{\"tag\":\"#2U2CY0J8U\",\"name\":\"BìlbõTBággìns\",\"brawler\":{\"id\":16000021,\"name\":\"GENE\",\"power\":10,\"trophies\":548}}],[{\"tag\":\"#20VGYQUJ\",\"name\":\"roughneck\",\"brawler\":{\"id\":16000004,\"name\":\"RICO\",\"power\":7,\"trophies\":415}},{\"tag\":\"#2V0QPYC8Y\",\"name\":\"Killer_Mamma\",\"brawler\":{\"id\":16000019,\"name\":\"PENNY\",\"power\":10,\"trophies\":668}}],[{\"tag\":\"#2PJLYCLG\",\"name\":\"HVC | Jonny\",\"brawler\":{\"id\":16000011,\"name\":\"MORTIS\",\"power\":10,\"trophies\":670}},{\"tag\":\"#8L9LLP8P\",\"name\":\"<c5>LHS</c>\",\"brawler\":{\"id\":16000015,\"name\":\"PIPER\",\"power\":10,\"trophies\":559}}]]}},{\"battleTime\":\"20191123T213033.000Z\",\"event\":{\"id\":15000126,\"mode\":\"duoShowdown\",\"map\":\"Royal Runway\"},\"battle\":{\"mode\":\"duoShowdown\",\"type\":\"ranked\",\"rank\":5,\"trophyChange\":-6,\"teams\":[[{\"tag\":\"#CLQPCGCL\",\"name\":\"SlimeGoblin\",\"brawler\":{\"id\":16000021,\"name\":\"GENE\",\"power\":10,\"trophies\":537}},{\"tag\":\"#29VQJ208\",\"name\":\"Beast Mode\",\"brawler\":{\"id\":16000018,\"name\":\"DARRYL\",\"power\":10,\"trophies\":700}}],[{\"tag\":\"#8LRRP9GLG\",\"name\":\"Dark Leon\",\"brawler\":{\"id\":16000028,\"name\":\"SANDY\",\"power\":1,\"trophies\":238}},{\"tag\":\"#9QCUR28GQ\",\"name\":\"Mmewtwo\",\"brawler\":{\"id\":16000002,\"name\":\"BULL\",\"power\":7,\"trophies\":573}}],[{\"tag\":\"#Y2YPL2C\",\"name\":\"EDDIEZOUBRO\",\"brawler\":{\"id\":16000015,\"name\":\"PIPER\",\"power\":10,\"trophies\":684}},{\"tag\":\"#8P8JYLCVQ\",\"name\":\"<c\",\"brawler\":{\"id\":16000009,\"name\":\"DYNAMIKE\",\"power\":7,\"trophies\":695}}],[{\"tag\":\"#8GVRVPJJ9\",\"name\":\"correa\",\"brawler\":{\"id\":16000008,\"name\":\"NITA\",\"power\":9,\"trophies\":701}},{\"tag\":\"#2828JYL9J\",\"name\":\"flatbuuty\",\"brawler\":{\"id\":16000001,\"name\":\"COLT\",\"power\":10,\"trophies\":617}}],[{\"tag\":\"#2PJLYCLG\",\"name\":\"HVC | Jonny\",\"brawler\":{\"id\":16000011,\"name\":\"MORTIS\",\"power\":10,\"trophies\":678}},{\"tag\":\"#8L9LLP8P\",\"name\":\"<c5>LHS</c>\",\"brawler\":{\"id\":16000015,\"name\":\"PIPER\",\"power\":10,\"trophies\":565}}]]}},{\"battleTime\":\"20191123T212812.000Z\",\"event\":{\"id\":15000126,\"mode\":\"duoShowdown\",\"map\":\"Royal Runway\"},\"battle\":{\"mode\":\"duoShowdown\",\"type\":\"ranked\",\"rank\":1,\"trophyChange\":9,\"teams\":[[{\"tag\":\"#2PJLYCLG\",\"name\":\"HVC | Jonny\",\"brawler\":{\"id\":16000011,\"name\":\"MORTIS\",\"power\":10,\"trophies\":669}},{\"tag\":\"#8L9LLP8P\",\"name\":\"<c5>LHS</c>\",\"brawler\":{\"id\":16000015,\"name\":\"PIPER\",\"power\":10,\"trophies\":556}}],[{\"tag\":\"#QGCCLQJ0\",\"name\":\"FST|GoofyDogFun\",\"brawler\":{\"id\":16000023,\"name\":\"LEON\",\"power\":10,\"trophies\":631}},{\"tag\":\"#82CJGGCQ\",\"name\":\"FST | Azuzu\",\"brawler\":{\"id\":16000001,\"name\":\"COLT\",\"power\":10,\"trophies\":635}}],[{\"tag\":\"#2GUG9JUU\",\"name\":\"I Am G A L A X\",\"brawler\":{\"id\":16000025,\"name\":\"CARL\",\"power\":10,\"trophies\":803}},{\"tag\":\"#8PJ0GQCJR\",\"name\":\"OhPingskrtskrt\",\"brawler\":{\"id\":16000023,\"name\":\"LEON\",\"power\":6,\"trophies\":611}}],[{\"tag\":\"#8L29CC8Y\",\"name\":\"AngelMR54\",\"brawler\":{\"id\":16000023,\"name\":\"LEON\",\"power\":10,\"trophies\":789}},{\"tag\":\"#22JVC22GC\",\"name\":\"SeyerzRyZ\",\"brawler\":{\"id\":16000007,\"name\":\"JESSIE\",\"power\":10,\"trophies\":643}}],[{\"tag\":\"#8RQYP2RJ0\",\"name\":\"££stan¶¶\",\"brawler\":{\"id\":16000001,\"name\":\"COLT\",\"power\":8,\"trophies\":667}},{\"tag\":\"#YG02JQQ\",\"name\":\"jimmie\",\"brawler\":{\"id\":16000012,\"name\":\"CROW\",\"power\":10,\"trophies\":696}}]]}},{\"battleTime\":\"20191123T212458.000Z\",\"event\":{\"id\":15000139,\"mode\":\"gemGrab\",\"map\":\"Cross Cut\"},\"battle\":{\"mode\":\"gemGrab\",\"type\":\"ranked\",\"result\":\"defeat\",\"duration\":103,\"trophyChange\":-7,\"starPlayer\":{\"tag\":\"#22LQ222L\",\"name\":\"Grim\",\"brawler\":{\"id\":16000008,\"name\":\"NITA\",\"power\":10,\"trophies\":676}},\"teams\":[[{\"tag\":\"#28RVQP029\",\"name\":\"PssyFkr69\",\"brawler\":{\"id\":16000007,\"name\":\"JESSIE\",\"power\":10,\"trophies\":765}},{\"tag\":\"#8L9LLP8P\",\"name\":\"<c5>LHS</c>\",\"brawler\":{\"id\":16000019,\"name\":\"PENNY\",\"power\":10,\"trophies\":625}},{\"tag\":\"#2PJLYCLG\",\"name\":\"HVC | Jonny\",\"brawler\":{\"id\":16000011,\"name\":\"MORTIS\",\"power\":10,\"trophies\":676}}],[{\"tag\":\"#QYRR0CQL\",\"name\":\"Teddy Bowtie\",\"brawler\":{\"id\":16000026,\"name\":\"BIBI\",\"power\":10,\"trophies\":703}},{\"tag\":\"#28RUYGU2\",\"name\":\"BigDog\",\"brawler\":{\"id\":16000006,\"name\":\"BARLEY\",\"power\":10,\"trophies\":557}},{\"tag\":\"#22LQ222L\",\"name\":\"Grim\",\"brawler\":{\"id\":16000008,\"name\":\"NITA\",\"power\":10,\"trophies\":676}}]]}},{\"battleTime\":\"20191123T212243.000Z\",\"event\":{\"id\":15000139,\"mode\":\"gemGrab\",\"map\":\"Cross Cut\"},\"battle\":{\"mode\":\"gemGrab\",\"type\":\"ranked\",\"result\":\"victory\",\"duration\":86,\"trophyChange\":8,\"starPlayer\":{\"tag\":\"#8L9LLP8P\",\"name\":\"<c5>LHS</c>\",\"brawler\":{\"id\":16000019,\"name\":\"PENNY\",\"power\":10,\"trophies\":617}},\"teams\":[[{\"tag\":\"#2PJLYCLG\",\"name\":\"HVC | Jonny\",\"brawler\":{\"id\":16000011,\"name\":\"MORTIS\",\"power\":10,\"trophies\":668}},{\"tag\":\"#28RVQP029\",\"name\":\"PssyFkr69\",\"brawler\":{\"id\":16000007,\"name\":\"JESSIE\",\"power\":10,\"trophies\":757}},{\"tag\":\"#8L9LLP8P\",\"name\":\"<c5>LHS</c>\",\"brawler\":{\"id\":16000019,\"name\":\"PENNY\",\"power\":10,\"trophies\":617}}],[{\"tag\":\"#28RL08V8L\",\"name\":\"Wesker\",\"brawler\":{\"id\":16000025,\"name\":\"CARL\",\"power\":10,\"trophies\":635}},{\"tag\":\"#28UU09GPQ\",\"name\":\"Neison\",\"brawler\":{\"id\":16000003,\"name\":\"BROCK\",\"power\":10,\"trophies\":647}},{\"tag\":\"#8092LV2Y\",\"name\":\"DI~MAUROOOO\",\"brawler\":{\"id\":16000014,\"name\":\"BO\",\"power\":10,\"trophies\":764}}]]}},{\"battleTime\":\"20191123T212025.000Z\",\"event\":{\"id\":15000139,\"mode\":\"gemGrab\",\"map\":\"Cross Cut\"},\"battle\":{\"mode\":\"gemGrab\",\"type\":\"ranked\",\"result\":\"victory\",\"duration\":100,\"trophyChange\":8,\"starPlayer\":{\"tag\":\"#28RVQP029\",\"name\":\"PssyFkr69\",\"brawler\":{\"id\":16000007,\"name\":\"JESSIE\",\"power\":10,\"trophies\":749}},\"teams\":[[{\"tag\":\"#28RVQP029\",\"name\":\"PssyFkr69\",\"brawler\":{\"id\":16000007,\"name\":\"JESSIE\",\"power\":10,\"trophies\":749}},{\"tag\":\"#8L9LLP8P\",\"name\":\"<c5>LHS</c>\",\"brawler\":{\"id\":16000019,\"name\":\"PENNY\",\"power\":10,\"trophies\":609}},{\"tag\":\"#2PJLYCLG\",\"name\":\"HVC | Jonny\",\"brawler\":{\"id\":16000011,\"name\":\"MORTIS\",\"power\":10,\"trophies\":660}}],[{\"tag\":\"#RGC2PR0U\",\"name\":\"Angelo594411\",\"brawler\":{\"id\":16000015,\"name\":\"PIPER\",\"power\":10,\"trophies\":632}},{\"tag\":\"#20V02UQUU\",\"name\":\"Titanrlx02\",\"brawler\":{\"id\":16000021,\"name\":\"GENE\",\"power\":7,\"trophies\":336}},{\"tag\":\"#UCQRPQV\",\"name\":\"Raul :3\",\"brawler\":{\"id\":16000028,\"name\":\"SANDY\",\"power\":8,\"trophies\":588}}]]}},{\"battleTime\":\"20191123T211814.000Z\",\"event\":{\"id\":15000139,\"mode\":\"gemGrab\",\"map\":\"Cross Cut\"},\"battle\":{\"mode\":\"gemGrab\",\"type\":\"ranked\",\"result\":\"victory\",\"duration\":82,\"trophyChange\":8,\"starPlayer\":{\"tag\":\"#2PJLYCLG\",\"name\":\"HVC | Jonny\",\"brawler\":{\"id\":16000011,\"name\":\"MORTIS\",\"power\":10,\"trophies\":652}},\"teams\":[[{\"tag\":\"#2PJLYCLG\",\"name\":\"HVC | Jonny\",\"brawler\":{\"id\":16000011,\"name\":\"MORTIS\",\"power\":10,\"trophies\":652}},{\"tag\":\"#28RVQP029\",\"name\":\"PssyFkr69\",\"brawler\":{\"id\":16000007,\"name\":\"JESSIE\",\"power\":10,\"trophies\":741}},{\"tag\":\"#8L9LLP8P\",\"name\":\"<c5>LHS</c>\",\"brawler\":{\"id\":16000019,\"name\":\"PENNY\",\"power\":10,\"trophies\":601}}],[{\"tag\":\"#8R2CQGVGV\",\"name\":\"nadiya\",\"brawler\":{\"id\":16000021,\"name\":\"GENE\",\"power\":10,\"trophies\":704}},{\"tag\":\"#2PJGG2LV9\",\"name\":\"PapaDino\",\"brawler\":{\"id\":16000030,\"name\":\"EMZ\",\"power\":10,\"trophies\":664}},{\"tag\":\"#V2YLLRYU\",\"name\":\"<c7>Derek</c>\",\"brawler\":{\"id\":16000022,\"name\":\"TICK\",\"power\":8,\"trophies\":607}}]]}},{\"battleTime\":\"20191123T211547.000Z\",\"event\":{\"id\":15000139,\"mode\":\"gemGrab\",\"map\":\"Cross Cut\"},\"battle\":{\"mode\":\"gemGrab\",\"type\":\"ranked\",\"result\":\"victory\",\"duration\":98,\"trophyChange\":8,\"starPlayer\":{\"tag\":\"#8L9LLP8P\",\"name\":\"<c5>LHS</c>\",\"brawler\":{\"id\":16000019,\"name\":\"PENNY\",\"power\":10,\"trophies\":593}},\"teams\":[[{\"tag\":\"#2PJLYCLG\",\"name\":\"HVC | Jonny\",\"brawler\":{\"id\":16000011,\"name\":\"MORTIS\",\"power\":10,\"trophies\":644}},{\"tag\":\"#8L9LLP8P\",\"name\":\"<c5>LHS</c>\",\"brawler\":{\"id\":16000019,\"name\":\"PENNY\",\"power\":10,\"trophies\":593}},{\"tag\":\"#28RVQP029\",\"name\":\"PssyFkr69\",\"brawler\":{\"id\":16000007,\"name\":\"JESSIE\",\"power\":10,\"trophies\":733}}],[{\"tag\":\"#2G9CGRC\",\"name\":\"slumpgod\",\"brawler\":{\"id\":16000011,\"name\":\"MORTIS\",\"power\":10,\"trophies\":656}},{\"tag\":\"#2PYYVGY09\",\"name\":\"Kenneth ♡\",\"brawler\":{\"id\":16000021,\"name\":\"GENE\",\"power\":10,\"trophies\":699}},{\"tag\":\"#28RYC8G8Y\",\"name\":\"ejay\",\"brawler\":{\"id\":16000014,\"name\":\"BO\",\"power\":10,\"trophies\":616}}]]}},{\"battleTime\":\"20191123T211255.000Z\",\"event\":{\"id\":15000139,\"mode\":\"gemGrab\",\"map\":\"Cross Cut\"},\"battle\":{\"mode\":\"gemGrab\",\"type\":\"ranked\",\"result\":\"victory\",\"duration\":91,\"trophyChange\":8,\"starPlayer\":{\"tag\":\"#8L9LLP8P\",\"name\":\"<c5>LHS</c>\",\"brawler\":{\"id\":16000019,\"name\":\"PENNY\",\"power\":10,\"trophies\":585}},\"teams\":[[{\"tag\":\"#2PJLYCLG\",\"name\":\"HVC | Jonny\",\"brawler\":{\"id\":16000011,\"name\":\"MORTIS\",\"power\":10,\"trophies\":636}},{\"tag\":\"#28RVQP029\",\"name\":\"PssyFkr69\",\"brawler\":{\"id\":16000007,\"name\":\"JESSIE\",\"power\":10,\"trophies\":725}},{\"tag\":\"#8L9LLP8P\",\"name\":\"<c5>LHS</c>\",\"brawler\":{\"id\":16000019,\"name\":\"PENNY\",\"power\":10,\"trophies\":585}}],[{\"tag\":\"#2YULU8P8\",\"name\":\"Dry Weasel\",\"brawler\":{\"id\":16000018,\"name\":\"DARRYL\",\"power\":10,\"trophies\":621}},{\"tag\":\"#9QQ8YQJ8\",\"name\":\"kate\",\"brawler\":{\"id\":16000003,\"name\":\"BROCK\",\"power\":10,\"trophies\":644}},{\"tag\":\"#29PPQQYVP\",\"name\":\"redgar\",\"brawler\":{\"id\":16000019,\"name\":\"PENNY\",\"power\":9,\"trophies\":610}}]]}}],\"paging\":{\"cursors\":{}}}"
   ]
  },
  {
   "cell_type": "markdown",
   "metadata": {},
   "source": [
    "## Work in Progress"
   ]
  },
  {
   "cell_type": "code",
   "execution_count": null,
   "metadata": {},
   "outputs": [],
   "source": [
    "p = '8L9LLP8P'\n",
    "data1 = r.get('https://api.brawlstars.com/v1/players/%23' + p + '/battlelog', headers=headers).json()"
   ]
  },
  {
   "cell_type": "code",
   "execution_count": null,
   "metadata": {
    "scrolled": true
   },
   "outputs": [],
   "source": [
    "data1"
   ]
  },
  {
   "cell_type": "markdown",
   "metadata": {},
   "source": [
    "### Run more efficiently?"
   ]
  },
  {
   "cell_type": "code",
   "execution_count": null,
   "metadata": {},
   "outputs": [],
   "source": [
    "def top_200():\n",
    "    data = r.get('https://api.brawlstars.com/v1/rankings/' + self.country_code +'/players', headers=self.headers).json()\n",
    "    player_id = []\n",
    "    names = []\n",
    "    for i in data['items']:\n",
    "        player_id.append(i['tag'][1:])\n",
    "        names.append(i['name'])\n",
    "    return player_id, names\n",
    "\n",
    "def make_bl_data():\n",
    "    player_id, names = self.top_200()\n",
    "    battle_log_data = []\n",
    "    for p in player_id:\n",
    "        battle_log_data.append(r.get('https://api.brawlstars.com/v1/players/%23' + p + '/battlelog', headers=headers).json())\n",
    "        if len(battle_log_data) % 50 == 0:\n",
    "            print ('{} battle logs recorded.'.format(len(battle_log_data)))\n",
    "    return battle_log_data\n",
    "\n",
    "def gather_account_info():\n",
    "    player_id, names = self.top_200()  \n",
    "    account_info = []\n",
    "    for i in player_id:\n",
    "        temp = (r.get('https://api.brawlstars.com/v1/players/%23' + i, headers=self.headers).json())\n",
    "        account_info.append(temp)\n",
    "        if len(account_info) % 50 == 0:\n",
    "            print ('{} account information recorded.'.format(len(account_info)))\n",
    "    return account_info\n",
    "\n",
    "def brawler_names():\n",
    "    data = r.get('https://api.brawlstars.com/v1/brawlers', headers=headers).json()\n",
    "    brawler_names = []\n",
    "    for i in data['items']:\n",
    "        brawler_names.append(i['name'])\n",
    "    return brawler_names\n",
    "\n",
    "def top_trophies():    \n",
    "    account_info = self.gather_account_info()\n",
    "    trophy_200 = []\n",
    "    for i in account_info:\n",
    "        trophy = []\n",
    "        for j in i['brawlers']:\n",
    "            trophy.append(j['trophies'])\n",
    "        trophy_200.append(trophy)\n",
    "    return trophy_200\n",
    "\n",
    "def makeDataframe():\n",
    "    print ('Making player IDs...')\n",
    "    player_id, names = self.top_200()\n",
    "    print ('...complete!')\n",
    "    print ('Making brawler names...')\n",
    "    brawler_names = self.brawler_names()\n",
    "    print ('...complete!')\n",
    "    print ('Gathering player info...')\n",
    "    trophy_200 = self.top_trophies()\n",
    "    print ('...complete!')\n",
    "    print ('Making battle log data...')\n",
    "    battle_log_data = self.make_bl_data()\n",
    "    print ('...complete!')\n",
    "\n",
    "    df = pd.DataFrame(names, columns=['name'])\n",
    "    df['id'] = player_id\n",
    "    df2 = pd.DataFrame(data=trophy_200, columns=brawler_names)\n",
    "    df = pd.concat([df, df2], axis=1)\n",
    "    return df, player_id, battle_log_data"
   ]
  },
  {
   "cell_type": "code",
   "execution_count": null,
   "metadata": {
    "scrolled": true
   },
   "outputs": [],
   "source": [
    "player_id = ['8L9LLP8P', '2PJLYCLG']\n",
    "battle_log_data = []\n",
    "for p in player_id:\n",
    "    battle_log_data.append(r.get('https://api.brawlstars.com/v1/players/%23' + p + '/battlelog', headers=headers).json())\n",
    "    if len(battle_log_data) % 50 == 0:\n",
    "        print ('{} battle logs recorded.'.format(len(battle_log_data)))\n",
    "battle_log_data"
   ]
  },
  {
   "cell_type": "code",
   "execution_count": null,
   "metadata": {},
   "outputs": [],
   "source": [
    "# input('what is it?')\n",
    "player_id = [input('Player 1 ID? #'), input('Player 2 ID? #')]\n",
    "battle_log_data = []\n",
    "for p in player_id:\n",
    "    battle_log_data.append(r.get('https://api.brawlstars.com/v1/players/%23' + p + '/battlelog', headers=headers).json())\n",
    "    if len(battle_log_data) % 50 == 0:\n",
    "        print ('{} battle logs recorded.'.format(len(battle_log_data)))\n",
    "battle_log_data"
   ]
  },
  {
   "cell_type": "markdown",
   "metadata": {},
   "source": [
    "# DASHBOARD TIME"
   ]
  },
  {
   "cell_type": "code",
   "execution_count": null,
   "metadata": {},
   "outputs": [],
   "source": [
    "import dash\n",
    "from dash.dependencies import Input, Output\n",
    "import dash_core_components as dcc\n",
    "import dash_html_components as html"
   ]
  },
  {
   "cell_type": "code",
   "execution_count": null,
   "metadata": {},
   "outputs": [],
   "source": [
    "app = dash.Dash(__name__)\n",
    "server = app.server\n",
    "if __name__ == '__main__':\n",
    "    app.run_server(debug=True)"
   ]
  },
  {
   "cell_type": "code",
   "execution_count": null,
   "metadata": {},
   "outputs": [],
   "source": [
    "'exit'"
   ]
  },
  {
   "cell_type": "code",
   "execution_count": null,
   "metadata": {},
   "outputs": [],
   "source": []
  }
 ],
 "metadata": {
  "kernelspec": {
   "display_name": "Python 3",
   "language": "python",
   "name": "python3"
  },
  "language_info": {
   "codemirror_mode": {
    "name": "ipython",
    "version": 3
   },
   "file_extension": ".py",
   "mimetype": "text/x-python",
   "name": "python",
   "nbconvert_exporter": "python",
   "pygments_lexer": "ipython3",
   "version": "3.7.3"
  }
 },
 "nbformat": 4,
 "nbformat_minor": 2
}
